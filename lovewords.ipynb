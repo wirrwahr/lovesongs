{
 "cells": [
  {
   "cell_type": "code",
   "execution_count": 1,
   "metadata": {},
   "outputs": [],
   "source": [
    "# goal: extract relevant information regarding the topic 'love'\n",
    "# the data used are the top 100 billboard-chart-lyrics from 1964-2015"
   ]
  },
  {
   "cell_type": "code",
   "execution_count": 2,
   "metadata": {},
   "outputs": [],
   "source": [
    "import pandas as pd"
   ]
  },
  {
   "cell_type": "code",
   "execution_count": 3,
   "metadata": {},
   "outputs": [],
   "source": [
    "import os"
   ]
  },
  {
   "cell_type": "code",
   "execution_count": 4,
   "metadata": {},
   "outputs": [
    {
     "data": {
      "text/plain": [
       "['.git',\n",
       " '.ipynb_checkpoints',\n",
       " 'billboard_lyrics_1964-2015.csv',\n",
       " 'lovewords.ipynb']"
      ]
     },
     "execution_count": 4,
     "metadata": {},
     "output_type": "execute_result"
    }
   ],
   "source": [
    "# list files in current directory\n",
    "\n",
    "os.listdir()"
   ]
  },
  {
   "cell_type": "code",
   "execution_count": 5,
   "metadata": {},
   "outputs": [],
   "source": [
    "# import data from csv\n",
    "\n",
    "data = pd.read_csv('billboard_lyrics_1964-2015.csv', encoding='latin-1')"
   ]
  },
  {
   "cell_type": "code",
   "execution_count": 6,
   "metadata": {},
   "outputs": [
    {
     "data": {
      "text/html": [
       "<div>\n",
       "<style scoped>\n",
       "    .dataframe tbody tr th:only-of-type {\n",
       "        vertical-align: middle;\n",
       "    }\n",
       "\n",
       "    .dataframe tbody tr th {\n",
       "        vertical-align: top;\n",
       "    }\n",
       "\n",
       "    .dataframe thead th {\n",
       "        text-align: right;\n",
       "    }\n",
       "</style>\n",
       "<table border=\"1\" class=\"dataframe\">\n",
       "  <thead>\n",
       "    <tr style=\"text-align: right;\">\n",
       "      <th></th>\n",
       "      <th>Rank</th>\n",
       "      <th>Song</th>\n",
       "      <th>Artist</th>\n",
       "      <th>Year</th>\n",
       "      <th>Lyrics</th>\n",
       "      <th>Source</th>\n",
       "    </tr>\n",
       "  </thead>\n",
       "  <tbody>\n",
       "    <tr>\n",
       "      <th>0</th>\n",
       "      <td>1</td>\n",
       "      <td>wooly bully</td>\n",
       "      <td>sam the sham and the pharaohs</td>\n",
       "      <td>1965</td>\n",
       "      <td>sam the sham miscellaneous wooly bully wooly b...</td>\n",
       "      <td>3.0</td>\n",
       "    </tr>\n",
       "    <tr>\n",
       "      <th>1</th>\n",
       "      <td>2</td>\n",
       "      <td>i cant help myself sugar pie honey bunch</td>\n",
       "      <td>four tops</td>\n",
       "      <td>1965</td>\n",
       "      <td>sugar pie honey bunch you know that i love yo...</td>\n",
       "      <td>1.0</td>\n",
       "    </tr>\n",
       "    <tr>\n",
       "      <th>2</th>\n",
       "      <td>3</td>\n",
       "      <td>i cant get no satisfaction</td>\n",
       "      <td>the rolling stones</td>\n",
       "      <td>1965</td>\n",
       "      <td></td>\n",
       "      <td>1.0</td>\n",
       "    </tr>\n",
       "    <tr>\n",
       "      <th>3</th>\n",
       "      <td>4</td>\n",
       "      <td>you were on my mind</td>\n",
       "      <td>we five</td>\n",
       "      <td>1965</td>\n",
       "      <td>when i woke up this morning you were on my mi...</td>\n",
       "      <td>1.0</td>\n",
       "    </tr>\n",
       "    <tr>\n",
       "      <th>4</th>\n",
       "      <td>5</td>\n",
       "      <td>youve lost that lovin feelin</td>\n",
       "      <td>the righteous brothers</td>\n",
       "      <td>1965</td>\n",
       "      <td>you never close your eyes anymore when i kiss...</td>\n",
       "      <td>1.0</td>\n",
       "    </tr>\n",
       "  </tbody>\n",
       "</table>\n",
       "</div>"
      ],
      "text/plain": [
       "   Rank                                      Song  \\\n",
       "0     1                               wooly bully   \n",
       "1     2  i cant help myself sugar pie honey bunch   \n",
       "2     3                i cant get no satisfaction   \n",
       "3     4                       you were on my mind   \n",
       "4     5              youve lost that lovin feelin   \n",
       "\n",
       "                          Artist  Year  \\\n",
       "0  sam the sham and the pharaohs  1965   \n",
       "1                      four tops  1965   \n",
       "2             the rolling stones  1965   \n",
       "3                        we five  1965   \n",
       "4         the righteous brothers  1965   \n",
       "\n",
       "                                              Lyrics  Source  \n",
       "0  sam the sham miscellaneous wooly bully wooly b...     3.0  \n",
       "1   sugar pie honey bunch you know that i love yo...     1.0  \n",
       "2                                                        1.0  \n",
       "3   when i woke up this morning you were on my mi...     1.0  \n",
       "4   you never close your eyes anymore when i kiss...     1.0  "
      ]
     },
     "execution_count": 6,
     "metadata": {},
     "output_type": "execute_result"
    }
   ],
   "source": [
    "# show data structure\n",
    "\n",
    "data.head()"
   ]
  },
  {
   "cell_type": "code",
   "execution_count": 7,
   "metadata": {},
   "outputs": [
    {
     "name": "stdout",
     "output_type": "stream",
     "text": [
      "<class 'pandas.core.frame.DataFrame'>\n",
      "RangeIndex: 5100 entries, 0 to 5099\n",
      "Data columns (total 6 columns):\n",
      "Rank      5100 non-null int64\n",
      "Song      5100 non-null object\n",
      "Artist    5100 non-null object\n",
      "Year      5100 non-null int64\n",
      "Lyrics    4913 non-null object\n",
      "Source    4913 non-null float64\n",
      "dtypes: float64(1), int64(2), object(3)\n",
      "memory usage: 239.1+ KB\n"
     ]
    }
   ],
   "source": [
    "data.info()"
   ]
  },
  {
   "cell_type": "code",
   "execution_count": 8,
   "metadata": {},
   "outputs": [],
   "source": [
    "word_counts = {}\n",
    "\n",
    "# loop over the 'Lyrics' column\n",
    "for lyric in data['Lyrics'].values:\n",
    "    lyric_string = str(lyric)\n",
    "    \n",
    "    # split lyrics by using space as separator\n",
    "    words = lyric_string.split(' ')\n",
    "    for word in words:\n",
    "        if word in word_counts:\n",
    "            word_counts[word] += 1\n",
    "        else:\n",
    "            word_counts[word] = 1"
   ]
  },
  {
   "cell_type": "code",
   "execution_count": 9,
   "metadata": {},
   "outputs": [
    {
     "name": "stdout",
     "output_type": "stream",
     "text": [
      "[('you', 64606), ('i', 56466), ('the', 53451), ('to', 35752), ('and', 32555), ('me', 31170), ('a', 29282), ('it', 25688), ('my', 22821), ('in', 18553), ('that', 16151), ('on', 15814), ('your', 15459), ('love', 15283), ('im', 14278), ('be', 13004), ('of', 12825), ('', 12266), ('all', 11895), ('dont', 11587)]\n"
     ]
    }
   ],
   "source": [
    "# we sort the words by count\n",
    "# use an anonymous function (lambda expression) to use the first element of every value pair as sorting key\n",
    "word_counts_sorted = sorted(word_counts.items(), key=lambda x: x[1], reverse=True)\n",
    "\n",
    "\n",
    "# show 'top 20'\n",
    "print(word_counts_sorted[:20])"
   ]
  },
  {
   "cell_type": "code",
   "execution_count": 10,
   "metadata": {},
   "outputs": [
    {
     "name": "stdout",
     "output_type": "stream",
     "text": [
      "14\n"
     ]
    }
   ],
   "source": [
    "# make a list of all words and get the index of 'love'\n",
    "\n",
    "words = []\n",
    "for word, count in word_counts_sorted:\n",
    "    words.append(word)\n",
    "\n",
    "# shorthand syntax (list comprehension)\n",
    "words = [word for word, count in word_counts_sorted]\n",
    "\n",
    "\n",
    "love_rank = 1 + words.index('love')\n",
    "print(love_rank)"
   ]
  },
  {
   "cell_type": "code",
   "execution_count": 11,
   "metadata": {},
   "outputs": [],
   "source": [
    "# first conclusion:\n",
    "# 'love' is 14th place in word_counts\n",
    "# 'love' is the first actual noun, besides words required to form sentencens ('you', 'i')\n",
    "# therefore: 'love' is the most important topic"
   ]
  },
  {
   "cell_type": "code",
   "execution_count": 12,
   "metadata": {},
   "outputs": [],
   "source": [
    "# grouping words by song\n",
    "\n",
    "word_counts = {}\n",
    "for i, lyric in enumerate(data['Lyrics'].values):\n",
    "    lyric_string = str(lyric)\n",
    "    words = lyric_string.split(' ')\n",
    "    word_counts[i] = {}\n",
    "    for word in words:\n",
    "        song = word_counts[i]\n",
    "        if word in song:\n",
    "            song[word] += 1\n",
    "        else:\n",
    "            song[word] = 1"
   ]
  },
  {
   "cell_type": "code",
   "execution_count": 13,
   "metadata": {},
   "outputs": [],
   "source": [
    "# use collections module to order entries in the dictionary for no reason\n",
    "\n",
    "import collections\n",
    "\n",
    "word_counts_sorted = collections.OrderedDict(word_counts)"
   ]
  },
  {
   "cell_type": "code",
   "execution_count": 14,
   "metadata": {
    "scrolled": true
   },
   "outputs": [
    {
     "name": "stdout",
     "output_type": "stream",
     "text": [
      "5100\n"
     ]
    }
   ],
   "source": [
    "# verify count\n",
    "\n",
    "num_songs = len(word_counts_sorted)\n",
    "print(num_songs)"
   ]
  },
  {
   "cell_type": "code",
   "execution_count": 15,
   "metadata": {},
   "outputs": [
    {
     "name": "stdout",
     "output_type": "stream",
     "text": [
      "2723\n"
     ]
    }
   ],
   "source": [
    "# filtering all the songs containing 'love'\n",
    "\n",
    "love_songs = []\n",
    "for i, song in word_counts_sorted.items():\n",
    "    if 'love' in song.keys():\n",
    "        love_songs.append(i)\n",
    "\n",
    "num_love_songs = len(love_songs)\n",
    "print(num_love_songs)"
   ]
  },
  {
   "cell_type": "code",
   "execution_count": 16,
   "metadata": {},
   "outputs": [
    {
     "name": "stdout",
     "output_type": "stream",
     "text": [
      "0.533921568627451\n"
     ]
    }
   ],
   "source": [
    "# ratio of love\n",
    "\n",
    "print(num_love_songs / num_songs)"
   ]
  },
  {
   "cell_type": "code",
   "execution_count": 17,
   "metadata": {},
   "outputs": [
    {
     "name": "stdout",
     "output_type": "stream",
     "text": [
      "15283\n"
     ]
    }
   ],
   "source": [
    "# counting only 'love'\n",
    "\n",
    "love_count = 0\n",
    "for i in love_songs:\n",
    "    for word, count in word_counts_sorted[i].items():\n",
    "        if word == 'love':\n",
    "            love_count += count\n",
    "print(love_count)"
   ]
  },
  {
   "cell_type": "code",
   "execution_count": 18,
   "metadata": {},
   "outputs": [],
   "source": [
    "# save love songs in new DataFrame\n",
    "\n",
    "only_love = data.iloc[love_songs]"
   ]
  },
  {
   "cell_type": "code",
   "execution_count": 19,
   "metadata": {},
   "outputs": [
    {
     "data": {
      "text/html": [
       "<div>\n",
       "<style scoped>\n",
       "    .dataframe tbody tr th:only-of-type {\n",
       "        vertical-align: middle;\n",
       "    }\n",
       "\n",
       "    .dataframe tbody tr th {\n",
       "        vertical-align: top;\n",
       "    }\n",
       "\n",
       "    .dataframe thead th {\n",
       "        text-align: right;\n",
       "    }\n",
       "</style>\n",
       "<table border=\"1\" class=\"dataframe\">\n",
       "  <thead>\n",
       "    <tr style=\"text-align: right;\">\n",
       "      <th></th>\n",
       "      <th>Rank</th>\n",
       "      <th>Song</th>\n",
       "      <th>Artist</th>\n",
       "      <th>Year</th>\n",
       "      <th>Lyrics</th>\n",
       "      <th>Source</th>\n",
       "    </tr>\n",
       "  </thead>\n",
       "  <tbody>\n",
       "    <tr>\n",
       "      <th>1</th>\n",
       "      <td>2</td>\n",
       "      <td>i cant help myself sugar pie honey bunch</td>\n",
       "      <td>four tops</td>\n",
       "      <td>1965</td>\n",
       "      <td>sugar pie honey bunch you know that i love yo...</td>\n",
       "      <td>1.0</td>\n",
       "    </tr>\n",
       "    <tr>\n",
       "      <th>4</th>\n",
       "      <td>5</td>\n",
       "      <td>youve lost that lovin feelin</td>\n",
       "      <td>the righteous brothers</td>\n",
       "      <td>1965</td>\n",
       "      <td>you never close your eyes anymore when i kiss...</td>\n",
       "      <td>1.0</td>\n",
       "    </tr>\n",
       "    <tr>\n",
       "      <th>7</th>\n",
       "      <td>8</td>\n",
       "      <td>cant you hear my heart beat</td>\n",
       "      <td>hermans hermits</td>\n",
       "      <td>1965</td>\n",
       "      <td>carterlewis every time i see you lookin my way...</td>\n",
       "      <td>5.0</td>\n",
       "    </tr>\n",
       "    <tr>\n",
       "      <th>12</th>\n",
       "      <td>13</td>\n",
       "      <td>the birds and the bees</td>\n",
       "      <td>jewel akens</td>\n",
       "      <td>1965</td>\n",
       "      <td>let me tell ya bout the birds and the bees and...</td>\n",
       "      <td>3.0</td>\n",
       "    </tr>\n",
       "    <tr>\n",
       "      <th>13</th>\n",
       "      <td>14</td>\n",
       "      <td>hold me thrill me kiss me</td>\n",
       "      <td>mel carter</td>\n",
       "      <td>1965</td>\n",
       "      <td>hold me hold me never let me go until youve t...</td>\n",
       "      <td>1.0</td>\n",
       "    </tr>\n",
       "  </tbody>\n",
       "</table>\n",
       "</div>"
      ],
      "text/plain": [
       "    Rank                                      Song                  Artist  \\\n",
       "1      2  i cant help myself sugar pie honey bunch               four tops   \n",
       "4      5              youve lost that lovin feelin  the righteous brothers   \n",
       "7      8               cant you hear my heart beat         hermans hermits   \n",
       "12    13                    the birds and the bees             jewel akens   \n",
       "13    14                 hold me thrill me kiss me              mel carter   \n",
       "\n",
       "    Year                                             Lyrics  Source  \n",
       "1   1965   sugar pie honey bunch you know that i love yo...     1.0  \n",
       "4   1965   you never close your eyes anymore when i kiss...     1.0  \n",
       "7   1965  carterlewis every time i see you lookin my way...     5.0  \n",
       "12  1965  let me tell ya bout the birds and the bees and...     3.0  \n",
       "13  1965   hold me hold me never let me go until youve t...     1.0  "
      ]
     },
     "execution_count": 19,
     "metadata": {},
     "output_type": "execute_result"
    }
   ],
   "source": [
    "only_love.head()"
   ]
  },
  {
   "cell_type": "code",
   "execution_count": 20,
   "metadata": {},
   "outputs": [
    {
     "name": "stdout",
     "output_type": "stream",
     "text": [
      "{1965: 49, 1966: 46, 1967: 54, 1968: 42, 1969: 49, 1970: 50, 1971: 45, 1972: 45, 1973: 40, 1974: 45, 1975: 52, 1976: 51, 1977: 58, 1978: 58, 1979: 62, 1980: 50, 1981: 49, 1982: 56, 1983: 52, 1984: 50, 1985: 54, 1986: 53, 1987: 57, 1988: 68, 1989: 67, 1990: 63, 1991: 62, 1992: 61, 1993: 61, 1994: 58, 1995: 62, 1996: 52, 1997: 49, 1998: 59, 1999: 52, 2000: 61, 2001: 63, 2002: 58, 2003: 57, 2004: 47, 2005: 50, 2006: 43, 2007: 48, 2008: 55, 2009: 47, 2010: 56, 2011: 51, 2012: 45, 2013: 55, 2014: 51, 2015: 55}\n"
     ]
    }
   ],
   "source": [
    "# count love songs in every year\n",
    "\n",
    "love_count = 0\n",
    "love_time = {}\n",
    "for index, song in only_love.iterrows():\n",
    "    year, lyrics = song['Year'], song['Lyrics']\n",
    "    if year in love_time:\n",
    "        love_time[year] += 1\n",
    "    else:\n",
    "        love_time[year] = 1\n",
    "print(love_time)"
   ]
  },
  {
   "cell_type": "code",
   "execution_count": 21,
   "metadata": {},
   "outputs": [],
   "source": [
    "# import matplotlib to display the number of love songs over time\n",
    "\n",
    "import matplotlib.pyplot as plt"
   ]
  },
  {
   "cell_type": "code",
   "execution_count": 22,
   "metadata": {},
   "outputs": [
    {
     "data": {
      "image/png": "[encoded data removed]",
      "text/plain": [
       "<Figure size 432x288 with 1 Axes>"
      ]
     },
     "metadata": {
      "needs_background": "light"
     },
     "output_type": "display_data"
    }
   ],
   "source": [
    "x = love_time.keys()\n",
    "y = love_time.values()\n",
    "plt.plot(x, y)\n",
    "plt.xlabel('Year')\n",
    "plt.ylabel('Number of love songs')\n",
    "plt.show()"
   ]
  },
  {
   "cell_type": "code",
   "execution_count": 23,
   "metadata": {},
   "outputs": [],
   "source": [
    "# different way to get there\n",
    "# using more variables, allows further information to be extracted\n",
    "\n",
    "love_count = 0\n",
    "love_time_lyrics = {}\n",
    "for index, song in only_love.iterrows():\n",
    "    year, rank, lyrics = song['Year'], song['Rank'], song['Lyrics']\n",
    "    if year not in love_time_lyrics:\n",
    "        love_time_lyrics[year] = {}\n",
    "    \n",
    "    lyrics_string = str(lyrics)\n",
    "    words = lyrics_string.split(' ')\n",
    "    love_time_lyrics[year][rank] = {}\n",
    "    \n",
    "    for word in words:\n",
    "        song = love_time_lyrics[year][rank]\n",
    "        if word in song:\n",
    "            song[word] += 1\n",
    "        else:\n",
    "            song[word] = 1"
   ]
  },
  {
   "cell_type": "code",
   "execution_count": 24,
   "metadata": {},
   "outputs": [
    {
     "data": {
      "image/png": "[encoded data removed]",
      "text/plain": [
       "<Figure size 432x288 with 1 Axes>"
      ]
     },
     "metadata": {
      "needs_background": "light"
     },
     "output_type": "display_data"
    }
   ],
   "source": [
    "x = love_time_lyrics.keys()\n",
    "y = [len(year) for year in love_time_lyrics.values()]\n",
    "plt.plot(x, y)\n",
    "plt.xlabel('Year')\n",
    "plt.ylabel('Number of love songs')\n",
    "plt.show()"
   ]
  },
  {
   "cell_type": "code",
   "execution_count": 25,
   "metadata": {},
   "outputs": [],
   "source": [
    "# adding another graph\n",
    "# extracting the average love count per song\n",
    "\n",
    "y2 = []\n",
    "for year in love_time_lyrics.values():\n",
    "    love_sum = 0\n",
    "    for song in year.values():\n",
    "        love_sum += song['love']\n",
    "    y2.append(love_sum / len(year.values()))"
   ]
  },
  {
   "cell_type": "code",
   "execution_count": 26,
   "metadata": {},
   "outputs": [
    {
     "data": {
      "image/png": "[encoded data removed]",
      "text/plain": [
       "<Figure size 432x288 with 2 Axes>"
      ]
     },
     "metadata": {
      "needs_background": "light"
     },
     "output_type": "display_data"
    }
   ],
   "source": [
    "plt.figure()\n",
    "plt.subplot(211)\n",
    "plt.plot(x, y, 'r')\n",
    "plt.ylabel('Number of love songs')\n",
    "plt.subplot(212)\n",
    "plt.plot(x, y2, 'k')\n",
    "plt.ylabel('Avg love count / song')\n",
    "plt.xlabel('Year')\n",
    "plt.show()"
   ]
  },
  {
   "cell_type": "code",
   "execution_count": 27,
   "metadata": {},
   "outputs": [
    {
     "name": "stdout",
     "output_type": "stream",
     "text": [
      "1976\n"
     ]
    }
   ],
   "source": [
    "# find max value\n",
    "\n",
    "max_avg_love = max(y2)\n",
    "\n",
    "# get index of max value\n",
    "\n",
    "max_avg_love_ix = y2.index(max_avg_love)\n",
    "\n",
    "# get corresponding year (base year + index)\n",
    "\n",
    "max_avg_love_year = 1965 + max_avg_love_ix\n",
    "print(max_avg_love_year)"
   ]
  },
  {
   "cell_type": "code",
   "execution_count": 28,
   "metadata": {},
   "outputs": [
    {
     "name": "stdout",
     "output_type": "stream",
     "text": [
      "Most love 1976: 54 (rank 41)\n"
     ]
    }
   ],
   "source": [
    "# finding the song with most 'love' in 1976\n",
    "\n",
    "songs_1976 = love_time_lyrics[1976]\n",
    "love_count_rank = [(rank, song['love']) for rank, song in songs_1976.items()]\n",
    "max_love_song = max(love_count_rank, key=lambda x: x[1])\n",
    "rank, love_count = max_love_song\n",
    "print('Most love 1976: {} (rank {})'.format(love_count, rank))"
   ]
  },
  {
   "cell_type": "code",
   "execution_count": 29,
   "metadata": {},
   "outputs": [
    {
     "name": "stdout",
     "output_type": "stream",
     "text": [
      "Most love ever:  56\n"
     ]
    }
   ],
   "source": [
    "# the average love count per song is highest in 1976\n",
    "# but is there a song with even more love? spoiler: yes\n",
    "\n",
    "max_love_songs = []\n",
    "for year in love_time_lyrics.values():\n",
    "    max_love_song = max([song['love'] for song in year.values()])\n",
    "    max_love_songs.append(max_love_song)\n",
    "print('Most love ever: ', max(max_love_songs))"
   ]
  },
  {
   "cell_type": "code",
   "execution_count": 30,
   "metadata": {},
   "outputs": [],
   "source": [
    "# second conclusion: data is deceiving\n",
    "# (or i'm just asking it the wrong questions)"
   ]
  }
 ],
 "metadata": {
  "kernelspec": {
   "display_name": "Python 3",
   "language": "python",
   "name": "python3"
  },
  "language_info": {
   "codemirror_mode": {
    "name": "ipython",
    "version": 3
   },
   "file_extension": ".py",
   "mimetype": "text/x-python",
   "name": "python",
   "nbconvert_exporter": "python",
   "pygments_lexer": "ipython3",
   "version": "3.7.3"
  }
 },
 "nbformat": 4,
 "nbformat_minor": 2
}
